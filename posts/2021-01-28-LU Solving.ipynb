{
 "cells": [
  {
   "cell_type": "raw",
   "metadata": {},
   "source": [
    "---\n",
    "aliases:\n",
    "- /machine learning/2021/01/28/LU Solving\n",
    "badges: true\n",
    "categories:\n",
    "- machine learning\n",
    "date: '2021-01-28'\n",
    "hide: false\n",
    "output-file: 2021-01-28-lu solving.html\n",
    "title: Direct Inversion via LU Decomposition\n",
    "toc: true\n",
    "\n",
    "---\n",
    "\n"
   ]
  },
  {
   "cell_type": "markdown",
   "metadata": {
    "colab_type": "text",
    "id": "sQUmru1R_912"
   },
   "source": [
    "# Motivation\n",
    "\n",
    "- this tutorial is also available as a [colab notebook](https://colab.research.google.com/drive/1SJtGSP_1XcjLh0pyF_RwmakUMdDuNcxt?usp=sharing)\n",
    "\n",
    "Continuing with the Vandermonde interpolation example this tutorial goes step by step on how computers typically implement matrix inversions for the purpose of solving least squares problems.\n",
    "\n",
    "This typically takes the form of a matrix factorization of the matrix to be inverted followed by forward and back substitution. The matrix factorization demoed here is LU decomposition. We compare our hand-coded solvers with Numpy library solvers to compare results."
   ]
  },
  {
   "cell_type": "code",
   "execution_count": 0,
   "metadata": {
    "colab": {
     "base_uri": "https://localhost:8080/",
     "height": 52
    },
    "colab_type": "code",
    "executionInfo": {
     "elapsed": 3305,
     "status": "ok",
     "timestamp": 1586190371426,
     "user": {
      "displayName": "Brandon Nelson",
      "photoUrl": "https://lh3.googleusercontent.com/a-/AOh14Gh0OsY9d56qBaHUW076dNXToW8SM7NOud4VYbJB5Q=s64",
      "userId": "08680769847131478922"
     },
     "user_tz": 300
    },
    "id": "BIbRU_cMTVT3",
    "outputId": "051e9ab1-7131-42da-d7cc-228c1fefef74"
   },
   "outputs": [
    {
     "name": "stdout",
     "output_type": "stream",
     "text": [
      "[Errno 2] No such file or directory: 'drive/My Drive/Colab Notebooks/Solving Least Squares Problems'\n",
      "/content\n"
     ]
    }
   ],
   "source": [
    "cd 'drive/My Drive/Colab Notebooks/Solving Least Squares Problems'"
   ]
  },
  {
   "cell_type": "markdown",
   "metadata": {
    "colab_type": "text",
    "id": "rdV6cWcWTbqp"
   },
   "source": [
    "# Mechanics of solving a least squares problem\n",
    "## Introduction to LU decomposition "
   ]
  },
  {
   "cell_type": "markdown",
   "metadata": {
    "colab_type": "text",
    "id": "256Jo8ymqclh"
   },
   "source": [
    "Our goal is to explore how to solve systems of linear equations following Trefethan and fastai's numerical linear algebrea course: https://www.youtube.com/watch?v=O2x5KPJr5ag&list=PLtmWHNX-gukIc92m1K0P6bIOnZb-mg0hY&index=5."
   ]
  },
  {
   "cell_type": "markdown",
   "metadata": {
    "colab_type": "text",
    "id": "5YkKl4mnqjAV"
   },
   "source": [
    "# First perform LU decomposition\n",
    "https://en.wikipedia.org/wiki/LU_decomposition\n",
    "\n",
    "It is also based on Trefethen ch. 20 on LU decompositions and ch. 17 on Backsubstitution.\n",
    "https://www.amazon.com/Numerical-Linear-Algebra-Lloyd-Trefethen/dp/0898713617\n",
    "\n",
    "LU decomposition is essentially Gaussian elimination to find the upper matrix while recording your operations in the lower matrix"
   ]
  },
  {
   "cell_type": "code",
   "execution_count": 0,
   "metadata": {
    "colab": {},
    "colab_type": "code",
    "id": "phMGGNYAqjtR"
   },
   "outputs": [],
   "source": [
    "import numpy as np\n",
    "def LU(A):\n",
    "    U = np.copy(A)\n",
    "    m, n = A.shape\n",
    "    L = np.eye(n)\n",
    "    for k in range(n-1):\n",
    "        for j in range(k+1,n):\n",
    "            L[j,k] = U[j,k]/U[k,k]\n",
    "            U[j,k:n] -= L[j,k] * U[k,k:n]\n",
    "    return L, U"
   ]
  },
  {
   "cell_type": "code",
   "execution_count": 0,
   "metadata": {
    "colab": {
     "base_uri": "https://localhost:8080/",
     "height": 121
    },
    "colab_type": "code",
    "executionInfo": {
     "elapsed": 3280,
     "status": "ok",
     "timestamp": 1586190371427,
     "user": {
      "displayName": "Brandon Nelson",
      "photoUrl": "https://lh3.googleusercontent.com/a-/AOh14Gh0OsY9d56qBaHUW076dNXToW8SM7NOud4VYbJB5Q=s64",
      "userId": "08680769847131478922"
     },
     "user_tz": 300
    },
    "id": "-sc_7dhKqnsK",
    "outputId": "1a5d0c34-a44b-447c-a5f7-1809e480becf"
   },
   "outputs": [
    {
     "name": "stdout",
     "output_type": "stream",
     "text": [
      "[[ 1.  2. -3.]\n",
      " [ 2. -1.  1.]\n",
      " [ 1.  4. -2.]]\n",
      "[[ 1.  2. -3.]\n",
      " [ 2. -1.  1.]\n",
      " [ 1.  4. -2.]]\n"
     ]
    }
   ],
   "source": [
    "A = np.array([[1,2,-3],[2,-1,1],[1,4,-2]]).astype(np.float)\n",
    "print(A)"
   ]
  },
  {
   "cell_type": "code",
   "execution_count": 0,
   "metadata": {
    "colab": {
     "base_uri": "https://localhost:8080/",
     "height": 295
    },
    "colab_type": "code",
    "executionInfo": {
     "elapsed": 3262,
     "status": "ok",
     "timestamp": 1586190371428,
     "user": {
      "displayName": "Brandon Nelson",
      "photoUrl": "https://lh3.googleusercontent.com/a-/AOh14Gh0OsY9d56qBaHUW076dNXToW8SM7NOud4VYbJB5Q=s64",
      "userId": "08680769847131478922"
     },
     "user_tz": 300
    },
    "id": "CJYalEYGqr9J",
    "outputId": "864c6e8f-305d-49d4-aa84-46bc0b0b5340"
   },
   "outputs": [
    {
     "name": "stdout",
     "output_type": "stream",
     "text": [
      "L = \n",
      "[[ 1.   0.   0. ]\n",
      " [ 2.   1.   0. ]\n",
      " [ 1.  -0.4  1. ]]\n",
      "U = \n",
      "[[ 1.   2.  -3. ]\n",
      " [ 0.  -5.   7. ]\n",
      " [ 0.   0.   3.8]]\n",
      "L = \n",
      "[[ 1.   0.   0. ]\n",
      " [ 2.   1.   0. ]\n",
      " [ 1.  -0.4  1. ]]\n",
      "U = \n",
      "[[ 1.   2.  -3. ]\n",
      " [ 0.  -5.   7. ]\n",
      " [ 0.   0.   3.8]]\n"
     ]
    }
   ],
   "source": [
    "L, U = LU(A)\n",
    "print(\"L = \")\n",
    "print(L)\n",
    "print(\"U = \")\n",
    "print(U)"
   ]
  },
  {
   "cell_type": "code",
   "execution_count": 0,
   "metadata": {
    "colab": {
     "base_uri": "https://localhost:8080/",
     "height": 156
    },
    "colab_type": "code",
    "executionInfo": {
     "elapsed": 3240,
     "status": "ok",
     "timestamp": 1586190371428,
     "user": {
      "displayName": "Brandon Nelson",
      "photoUrl": "https://lh3.googleusercontent.com/a-/AOh14Gh0OsY9d56qBaHUW076dNXToW8SM7NOud4VYbJB5Q=s64",
      "userId": "08680769847131478922"
     },
     "user_tz": 300
    },
    "id": "CbQwC5pgqtvV",
    "outputId": "32a1b3e3-4ad5-46bb-eb8d-2f4fd83d32c7"
   },
   "outputs": [
    {
     "name": "stdout",
     "output_type": "stream",
     "text": [
      "LU = \n",
      "[[ 1.  2. -3.]\n",
      " [ 2. -1.  1.]\n",
      " [ 1.  4. -2.]]\n",
      "LU = \n",
      "[[ 1.  2. -3.]\n",
      " [ 2. -1.  1.]\n",
      " [ 1.  4. -2.]]\n"
     ]
    }
   ],
   "source": [
    "print(\"LU = \")\n",
    "print(L@U)"
   ]
  },
  {
   "cell_type": "code",
   "execution_count": 0,
   "metadata": {
    "colab": {
     "base_uri": "https://localhost:8080/",
     "height": 121
    },
    "colab_type": "code",
    "executionInfo": {
     "elapsed": 3218,
     "status": "ok",
     "timestamp": 1586190371430,
     "user": {
      "displayName": "Brandon Nelson",
      "photoUrl": "https://lh3.googleusercontent.com/a-/AOh14Gh0OsY9d56qBaHUW076dNXToW8SM7NOud4VYbJB5Q=s64",
      "userId": "08680769847131478922"
     },
     "user_tz": 300
    },
    "id": "_guWPIXiqvvJ",
    "outputId": "0e7a6ab6-ee56-436b-e7cb-5f98198dba5b"
   },
   "outputs": [
    {
     "name": "stdout",
     "output_type": "stream",
     "text": [
      "[[1]\n",
      " [1]\n",
      " [9]]\n",
      "[[1]\n",
      " [1]\n",
      " [9]]\n"
     ]
    }
   ],
   "source": [
    "b = np.array([[1],[1],[9]])\n",
    "print(b)"
   ]
  },
  {
   "cell_type": "markdown",
   "metadata": {
    "colab_type": "text",
    "id": "zoezuPNQqzpR"
   },
   "source": [
    "Here L and U must be square. Once we have our matrix factorizations of $A$, then we can solve for $x$ in a 2 step process:\n",
    "\n",
    "1. solve for $y$ in $Ly = b$\n",
    "2. then solve for $x$ after solving for $y$ in $Ux = y$"
   ]
  },
  {
   "cell_type": "code",
   "execution_count": 0,
   "metadata": {
    "colab": {},
    "colab_type": "code",
    "id": "jguk1_wLq5Us"
   },
   "outputs": [],
   "source": [
    "def forwardsub(L, b):\n",
    "    y = np.zeros(len(L))\n",
    "    y[0] = b[0]\n",
    "    for i in range(1,len(y)):\n",
    "        y[i] = b[i] - np.dot(L[i,:],y)\n",
    "    return y"
   ]
  },
  {
   "cell_type": "code",
   "execution_count": 0,
   "metadata": {
    "colab": {},
    "colab_type": "code",
    "id": "4pAs8nqIq6PQ"
   },
   "outputs": [],
   "source": [
    "def backsub(U, y):\n",
    "    N = len(U)\n",
    "    x = np.zeros([N,1])\n",
    "    x[-1] = y[-1]/U[-1,-1] \n",
    "    for i in range(N-2, -1, -1):\n",
    "        x[i] = (y[i] - np.dot(U[i,:],x))/float(U[i,i])\n",
    "    return x"
   ]
  },
  {
   "cell_type": "code",
   "execution_count": 0,
   "metadata": {
    "colab": {
     "base_uri": "https://localhost:8080/",
     "height": 121
    },
    "colab_type": "code",
    "executionInfo": {
     "elapsed": 3089,
     "status": "ok",
     "timestamp": 1586190371432,
     "user": {
      "displayName": "Brandon Nelson",
      "photoUrl": "https://lh3.googleusercontent.com/a-/AOh14Gh0OsY9d56qBaHUW076dNXToW8SM7NOud4VYbJB5Q=s64",
      "userId": "08680769847131478922"
     },
     "user_tz": 300
    },
    "id": "DJ_Vl46wq9JQ",
    "outputId": "25e95a5c-8882-4238-ffbe-0546becd4144"
   },
   "outputs": [
    {
     "name": "stdout",
     "output_type": "stream",
     "text": [
      "[[1.]\n",
      " [3.]\n",
      " [2.]]\n",
      "[[1.]\n",
      " [3.]\n",
      " [2.]]\n"
     ]
    }
   ],
   "source": [
    "y = forwardsub(L, b)\n",
    "x = backsub(U, y)\n",
    "print(x)"
   ]
  },
  {
   "cell_type": "code",
   "execution_count": 0,
   "metadata": {
    "colab": {},
    "colab_type": "code",
    "id": "AAayvBsvrAzZ"
   },
   "outputs": [],
   "source": [
    "bhat = (A@x)"
   ]
  },
  {
   "cell_type": "code",
   "execution_count": 0,
   "metadata": {
    "colab": {
     "base_uri": "https://localhost:8080/",
     "height": 35
    },
    "colab_type": "code",
    "executionInfo": {
     "elapsed": 2988,
     "status": "ok",
     "timestamp": 1586190371433,
     "user": {
      "displayName": "Brandon Nelson",
      "photoUrl": "https://lh3.googleusercontent.com/a-/AOh14Gh0OsY9d56qBaHUW076dNXToW8SM7NOud4VYbJB5Q=s64",
      "userId": "08680769847131478922"
     },
     "user_tz": 300
    },
    "id": "p0X7wg8DrCyF",
    "outputId": "4cf25844-1728-48b7-bf5e-5fee1654e1f8"
   },
   "outputs": [
    {
     "data": {
      "text/plain": [
       "True"
      ]
     },
     "execution_count": 10,
     "metadata": {
      "tags": []
     },
     "output_type": "execute_result"
    },
    {
     "data": {
      "text/plain": [
       "True"
      ]
     },
     "execution_count": 35,
     "metadata": {
      "tags": []
     },
     "output_type": "execute_result"
    }
   ],
   "source": [
    "np.allclose(b,bhat)"
   ]
  },
  {
   "cell_type": "markdown",
   "metadata": {
    "colab_type": "text",
    "id": "1v9THvuorXUZ"
   },
   "source": [
    "Yay we got back the same solution!\n",
    " ## Put into function and compare against Numpy\n",
    "We can combine all 3 of these functions in a least squares solver.."
   ]
  },
  {
   "cell_type": "code",
   "execution_count": 0,
   "metadata": {
    "colab": {},
    "colab_type": "code",
    "id": "MPqn_Hb9rMC5"
   },
   "outputs": [],
   "source": [
    "def LU_solve(A, b):\n",
    "    L, U = LU(A)\n",
    "    y = forwardsub(L, b)\n",
    "    x = backsub(U, y)\n",
    "    return x"
   ]
  },
  {
   "cell_type": "code",
   "execution_count": 0,
   "metadata": {
    "colab": {
     "base_uri": "https://localhost:8080/",
     "height": 121
    },
    "colab_type": "code",
    "executionInfo": {
     "elapsed": 2882,
     "status": "ok",
     "timestamp": 1586190371435,
     "user": {
      "displayName": "Brandon Nelson",
      "photoUrl": "https://lh3.googleusercontent.com/a-/AOh14Gh0OsY9d56qBaHUW076dNXToW8SM7NOud4VYbJB5Q=s64",
      "userId": "08680769847131478922"
     },
     "user_tz": 300
    },
    "id": "vR3rY3Q8rZtZ",
    "outputId": "333c5239-fc32-4f36-f9b6-79891ad5c95c"
   },
   "outputs": [
    {
     "name": "stdout",
     "output_type": "stream",
     "text": [
      "[[1.]\n",
      " [3.]\n",
      " [2.]]\n",
      "[[1.]\n",
      " [3.]\n",
      " [2.]]\n"
     ]
    }
   ],
   "source": [
    "x = LU_solve(A, b)\n",
    "print(x)"
   ]
  },
  {
   "cell_type": "code",
   "execution_count": 0,
   "metadata": {
    "colab": {
     "base_uri": "https://localhost:8080/",
     "height": 104
    },
    "colab_type": "code",
    "executionInfo": {
     "elapsed": 2834,
     "status": "ok",
     "timestamp": 1586190371435,
     "user": {
      "displayName": "Brandon Nelson",
      "photoUrl": "https://lh3.googleusercontent.com/a-/AOh14Gh0OsY9d56qBaHUW076dNXToW8SM7NOud4VYbJB5Q=s64",
      "userId": "08680769847131478922"
     },
     "user_tz": 300
    },
    "id": "GfBAbBbWra3-",
    "outputId": "f370ac84-6bea-41fa-ab43-3f5481812410"
   },
   "outputs": [
    {
     "data": {
      "text/plain": [
       "array([[1.],\n",
       "       [1.],\n",
       "       [9.]])"
      ]
     },
     "execution_count": 13,
     "metadata": {
      "tags": []
     },
     "output_type": "execute_result"
    },
    {
     "data": {
      "text/plain": [
       "array([[1.],\n",
       "       [1.],\n",
       "       [9.]])"
      ]
     },
     "execution_count": 38,
     "metadata": {
      "tags": []
     },
     "output_type": "execute_result"
    }
   ],
   "source": [
    "A@x"
   ]
  },
  {
   "cell_type": "markdown",
   "metadata": {
    "colab_type": "text",
    "id": "Kh6mrxuErecB"
   },
   "source": [
    "Finally let's check against numpy's built in least squares solver..."
   ]
  },
  {
   "cell_type": "code",
   "execution_count": 0,
   "metadata": {
    "colab": {
     "base_uri": "https://localhost:8080/",
     "height": 121
    },
    "colab_type": "code",
    "executionInfo": {
     "elapsed": 2805,
     "status": "ok",
     "timestamp": 1586190371436,
     "user": {
      "displayName": "Brandon Nelson",
      "photoUrl": "https://lh3.googleusercontent.com/a-/AOh14Gh0OsY9d56qBaHUW076dNXToW8SM7NOud4VYbJB5Q=s64",
      "userId": "08680769847131478922"
     },
     "user_tz": 300
    },
    "id": "0EaDf7g7rcKR",
    "outputId": "4cdaa467-a40e-492f-f922-1fed72f822ac"
   },
   "outputs": [
    {
     "name": "stdout",
     "output_type": "stream",
     "text": [
      "[[1.]\n",
      " [3.]\n",
      " [2.]]\n",
      "[[1.]\n",
      " [3.]\n",
      " [2.]]\n"
     ]
    }
   ],
   "source": [
    "print(np.linalg.lstsq(A, b, rcond = None)[0])"
   ]
  },
  {
   "cell_type": "markdown",
   "metadata": {
    "colab_type": "text",
    "id": "ArMujwO1rlFp"
   },
   "source": [
    "Yay we get the same answer as numpy's least squares solver!"
   ]
  },
  {
   "cell_type": "markdown",
   "metadata": {
    "colab_type": "text",
    "id": "hfRpWU4crxrW"
   },
   "source": [
    "# Now let's applied what we've learned to an interpolation example \n",
    "\n",
    "Our goal is to interpolate the function below"
   ]
  },
  {
   "cell_type": "code",
   "execution_count": 0,
   "metadata": {
    "colab": {
     "base_uri": "https://localhost:8080/",
     "height": 513
    },
    "colab_type": "code",
    "executionInfo": {
     "elapsed": 2760,
     "status": "ok",
     "timestamp": 1586190371437,
     "user": {
      "displayName": "Brandon Nelson",
      "photoUrl": "https://lh3.googleusercontent.com/a-/AOh14Gh0OsY9d56qBaHUW076dNXToW8SM7NOud4VYbJB5Q=s64",
      "userId": "08680769847131478922"
     },
     "user_tz": 300
    },
    "id": "kGVqxE_Frf2R",
    "outputId": "bf1e6942-c05b-4739-a73e-5cce0ab27c21"
   },
   "outputs": [
    {
     "data": {
      "image/png": "[encoded data removed]",
      "text/plain": [
       "<Figure size 432x288 with 1 Axes>"
      ]
     },
     "metadata": {
      "tags": []
     },
     "output_type": "display_data"
    },
    {
     "data": {
      "image/png": "[encoded data removed]",
      "text/plain": [
       "<Figure size 432x288 with 1 Axes>"
      ]
     },
     "metadata": {
      "tags": []
     },
     "output_type": "display_data"
    }
   ],
   "source": [
    "import matplotlib.pyplot as plt\n",
    "nSamples = 10\n",
    "t = np.linspace(0, 10, nSamples)\n",
    "y = np.exp(-5*(t-3)**2)+0.1*np.random.randn(nSamples)\n",
    "\n",
    "plt.plot(t,y,'*')\n",
    "plt.show()"
   ]
  },
  {
   "cell_type": "code",
   "execution_count": 0,
   "metadata": {
    "colab": {},
    "colab_type": "code",
    "id": "IXzG0y6TrpTp"
   },
   "outputs": [],
   "source": [
    "deg=6\n",
    "A = np.vander(y, N=deg, increasing=True)"
   ]
  },
  {
   "cell_type": "markdown",
   "metadata": {
    "colab_type": "text",
    "id": "0baI9HYUr41B"
   },
   "source": [
    "Here we solve the interpolation problem by solving for $x$ in the given equation $y = Ax$, found by taking the pseudo inverse:\n",
    "\n",
    "\\begin{equation}\n",
    "(A^*A)^{-1}A^*y = x\n",
    "\\end{equation}\n",
    "\n",
    "This works by left multiply $y=Ax$ by $A^*$ to get $A^*y = A^*Ax$ and then noticing that $A^*A$ is a square matrix, which thus can be inverted using the LU decomposition solve we introduced above\n",
    "\n",
    "(If $[A] = [m \\times n]$ then $[A*A] = [n \\times m] \\times [m \\times n] = [n \\times n]$)"
   ]
  },
  {
   "cell_type": "markdown",
   "metadata": {
    "colab_type": "text",
    "id": "6YRTSar1r8Bw"
   },
   "source": [
    "Above is how things work mathematically, to actually do this in code we need to look at the problem like this...\n",
    "\n",
    "Our goal is to estimate $y$ by using the Vandermonde matrix and an appropriate $x$ vector such that \n",
    "\n",
    "\\begin{equation}\n",
    "y \\approx \\hat{y} = Ax\n",
    "\\end{equation}\n",
    "\n",
    "however to find the appropriate $x$ we must perform least squares fitting....\n",
    "\n",
    "\\begin{equation}\n",
    "x = \\min ||y-\\hat{y}||_2^2 = \\min || y - Ax ||_2^2\n",
    "\\end{equation}\n",
    "\n",
    "Anyway to solve equation 1 we actually back up a step before finding the inverse\n",
    "\n",
    "\\begin{equation}\n",
    "A^*y = A^*A x\n",
    "\\end{equation}\n",
    "\n",
    "which we can rewrite as $Y = A^*y$ and $A^*A = M$ to get \n",
    "\n",
    "\\begin{equation}\n",
    "Mx = Y\n",
    "\\end{equation}\n",
    "\n",
    "and invert to find x exactly like we did above"
   ]
  },
  {
   "cell_type": "code",
   "execution_count": 0,
   "metadata": {
    "colab": {
     "base_uri": "https://localhost:8080/",
     "height": 52
    },
    "colab_type": "code",
    "executionInfo": {
     "elapsed": 2630,
     "status": "ok",
     "timestamp": 1586190371438,
     "user": {
      "displayName": "Brandon Nelson",
      "photoUrl": "https://lh3.googleusercontent.com/a-/AOh14Gh0OsY9d56qBaHUW076dNXToW8SM7NOud4VYbJB5Q=s64",
      "userId": "08680769847131478922"
     },
     "user_tz": 300
    },
    "id": "g03S5Nl4r2_x",
    "outputId": "4965448f-f59d-492f-bfac-47578a982d93"
   },
   "outputs": [
    {
     "name": "stdout",
     "output_type": "stream",
     "text": [
      "(6, 10)\n",
      "(6, 10)\n"
     ]
    }
   ],
   "source": [
    "Astar = np.conjugate(A.transpose())\n",
    "print(np.shape(Astar))"
   ]
  },
  {
   "cell_type": "code",
   "execution_count": 0,
   "metadata": {
    "colab": {
     "base_uri": "https://localhost:8080/",
     "height": 52
    },
    "colab_type": "code",
    "executionInfo": {
     "elapsed": 2556,
     "status": "ok",
     "timestamp": 1586190371438,
     "user": {
      "displayName": "Brandon Nelson",
      "photoUrl": "https://lh3.googleusercontent.com/a-/AOh14Gh0OsY9d56qBaHUW076dNXToW8SM7NOud4VYbJB5Q=s64",
      "userId": "08680769847131478922"
     },
     "user_tz": 300
    },
    "id": "QGe9C64Qr-vo",
    "outputId": "c1fe9070-bf48-4bdf-94bb-6b424f1e51db"
   },
   "outputs": [
    {
     "name": "stdout",
     "output_type": "stream",
     "text": [
      "(6, 6)\n",
      "(6, 6)\n"
     ]
    }
   ],
   "source": [
    "print(np.shape(Astar@A))"
   ]
  },
  {
   "cell_type": "code",
   "execution_count": 0,
   "metadata": {
    "colab": {
     "base_uri": "https://localhost:8080/",
     "height": 513
    },
    "colab_type": "code",
    "executionInfo": {
     "elapsed": 3023,
     "status": "ok",
     "timestamp": 1586190371976,
     "user": {
      "displayName": "Brandon Nelson",
      "photoUrl": "https://lh3.googleusercontent.com/a-/AOh14Gh0OsY9d56qBaHUW076dNXToW8SM7NOud4VYbJB5Q=s64",
      "userId": "08680769847131478922"
     },
     "user_tz": 300
    },
    "id": "rqjewX18r_nY",
    "outputId": "11eb1175-b6f4-42f0-b06d-73cc7977d973"
   },
   "outputs": [
    {
     "data": {
      "image/png": "[encoded data removed]",
      "text/plain": [
       "<Figure size 432x288 with 1 Axes>"
      ]
     },
     "metadata": {
      "tags": []
     },
     "output_type": "display_data"
    },
    {
     "data": {
      "image/png": "[encoded data removed]",
      "text/plain": [
       "<Figure size 432x288 with 1 Axes>"
      ]
     },
     "metadata": {
      "tags": []
     },
     "output_type": "display_data"
    }
   ],
   "source": [
    "x = LU_solve(Astar@A, Astar@y)\n",
    "plt.plot(t,y,'*',t,A@x)\n",
    "plt.show()"
   ]
  },
  {
   "cell_type": "markdown",
   "metadata": {
    "colab_type": "text",
    "id": "fgDbojqWsDXQ"
   },
   "source": [
    "# Compare results\n",
    "Finally we put it all into a function a show that this is a solution for Least squares of *rectangular* matrices"
   ]
  },
  {
   "cell_type": "code",
   "execution_count": 0,
   "metadata": {
    "colab": {},
    "colab_type": "code",
    "id": "LI57iq8FsAsd"
   },
   "outputs": [],
   "source": [
    "def LUsolveRect(A, y):\n",
    "    Astar = np.conjugate(A.transpose())\n",
    "    x = LU_solve(Astar@A, Astar@y)\n",
    "    return x"
   ]
  },
  {
   "cell_type": "code",
   "execution_count": 0,
   "metadata": {
    "colab": {
     "base_uri": "https://localhost:8080/",
     "height": 225
    },
    "colab_type": "code",
    "executionInfo": {
     "elapsed": 2873,
     "status": "ok",
     "timestamp": 1586190371982,
     "user": {
      "displayName": "Brandon Nelson",
      "photoUrl": "https://lh3.googleusercontent.com/a-/AOh14Gh0OsY9d56qBaHUW076dNXToW8SM7NOud4VYbJB5Q=s64",
      "userId": "08680769847131478922"
     },
     "user_tz": 300
    },
    "id": "YDh2yVgLsE-D",
    "outputId": "f9bf733e-213e-4dfe-c2c4-00f7dc25d9b3"
   },
   "outputs": [
    {
     "name": "stdout",
     "output_type": "stream",
     "text": [
      "[[ 6.49036380e-14]\n",
      " [ 1.00000000e+00]\n",
      " [-2.24586093e-11]\n",
      " [ 1.26177226e-10]\n",
      " [ 1.10151372e-09]\n",
      " [-2.25442647e-09]]\n",
      "[[ 4.70179451e-15]\n",
      " [ 1.00000000e+00]\n",
      " [-3.83457512e-12]\n",
      " [ 1.17952022e-11]\n",
      " [ 2.43384392e-10]\n",
      " [-7.20062159e-10]]\n"
     ]
    }
   ],
   "source": [
    "x = LUsolveRect(A, y)\n",
    "print(x)"
   ]
  },
  {
   "cell_type": "code",
   "execution_count": 0,
   "metadata": {
    "colab": {
     "base_uri": "https://localhost:8080/",
     "height": 513
    },
    "colab_type": "code",
    "executionInfo": {
     "elapsed": 2816,
     "status": "ok",
     "timestamp": 1586190371984,
     "user": {
      "displayName": "Brandon Nelson",
      "photoUrl": "https://lh3.googleusercontent.com/a-/AOh14Gh0OsY9d56qBaHUW076dNXToW8SM7NOud4VYbJB5Q=s64",
      "userId": "08680769847131478922"
     },
     "user_tz": 300
    },
    "id": "We3VxY3asGRd",
    "outputId": "af84e803-4438-4610-ce39-fcaca8e174a3"
   },
   "outputs": [
    {
     "data": {
      "image/png": "[encoded data removed]",
      "text/plain": [
       "<Figure size 432x288 with 1 Axes>"
      ]
     },
     "metadata": {
      "tags": []
     },
     "output_type": "display_data"
    },
    {
     "data": {
      "image/png": "[encoded data removed]",
      "text/plain": [
       "<Figure size 432x288 with 1 Axes>"
      ]
     },
     "metadata": {
      "tags": []
     },
     "output_type": "display_data"
    }
   ],
   "source": [
    "plt.plot(t,y,'*',t,A@x)\n",
    "plt.show()"
   ]
  },
  {
   "cell_type": "code",
   "execution_count": 0,
   "metadata": {
    "colab": {
     "base_uri": "https://localhost:8080/",
     "height": 87
    },
    "colab_type": "code",
    "executionInfo": {
     "elapsed": 2734,
     "status": "ok",
     "timestamp": 1586190371993,
     "user": {
      "displayName": "Brandon Nelson",
      "photoUrl": "https://lh3.googleusercontent.com/a-/AOh14Gh0OsY9d56qBaHUW076dNXToW8SM7NOud4VYbJB5Q=s64",
      "userId": "08680769847131478922"
     },
     "user_tz": 300
    },
    "id": "3y_SPP4PsHcx",
    "outputId": "59478e49-303e-4d1a-b006-56479577fb0c"
   },
   "outputs": [
    {
     "name": "stdout",
     "output_type": "stream",
     "text": [
      "[ 4.30450636e-17  1.00000000e+00 -6.05071548e-15  3.39173134e-14\n",
      "  2.12982409e-13 -4.50577076e-13]\n",
      "[-2.38197120e-17  1.00000000e+00 -1.18793864e-14  5.71764858e-15\n",
      "  8.34748937e-13 -2.22377498e-12]\n"
     ]
    }
   ],
   "source": [
    "x = np.linalg.lstsq(A, y, rcond=None)[0]\n",
    "print(x)"
   ]
  },
  {
   "cell_type": "code",
   "execution_count": 0,
   "metadata": {
    "colab": {
     "base_uri": "https://localhost:8080/",
     "height": 513
    },
    "colab_type": "code",
    "executionInfo": {
     "elapsed": 3433,
     "status": "ok",
     "timestamp": 1586190372770,
     "user": {
      "displayName": "Brandon Nelson",
      "photoUrl": "https://lh3.googleusercontent.com/a-/AOh14Gh0OsY9d56qBaHUW076dNXToW8SM7NOud4VYbJB5Q=s64",
      "userId": "08680769847131478922"
     },
     "user_tz": 300
    },
    "id": "xUDNBSFxsJLZ",
    "outputId": "d15c629b-d994-4f20-da6c-aeaecf168b8b"
   },
   "outputs": [
    {
     "data": {
      "image/png": "[encoded data removed]",
      "text/plain": [
       "<Figure size 432x288 with 1 Axes>"
      ]
     },
     "metadata": {
      "tags": []
     },
     "output_type": "display_data"
    },
    {
     "data": {
      "image/png": "[encoded data removed]",
      "text/plain": [
       "<Figure size 432x288 with 1 Axes>"
      ]
     },
     "metadata": {
      "tags": []
     },
     "output_type": "display_data"
    }
   ],
   "source": [
    "plt.plot(t,y,'*',t,A@x)\n",
    "plt.show()"
   ]
  },
  {
   "cell_type": "markdown",
   "metadata": {
    "colab_type": "text",
    "id": "UpbLtFsa9gQL"
   },
   "source": [
    "Move on to the next notebook on applying Vandermonde interpolation to a beam hardening problem in CT imaging: https://colab.research.google.com/drive/1AMKoOjs7y6l18d70RcbHMLU9ZFxkzRpO\n"
   ]
  },
  {
   "cell_type": "code",
   "execution_count": 0,
   "metadata": {
    "colab": {},
    "colab_type": "code",
    "id": "pfW4xiXc9ns7"
   },
   "outputs": [],
   "source": []
  }
 ],
 "metadata": {
  "accelerator": "GPU",
  "colab": {
   "authorship_tag": "ABX9TyOJYmq1li8RFJm2uhebMm/P",
   "collapsed_sections": [],
   "machine_shape": "hm",
   "mount_file_id": "1kErNKAbJlJUpq2jsb0roMJA7kTNB9vY0",
   "name": "_2_LU Solving",
   "provenance": [
    {
     "file_id": "1kErNKAbJlJUpq2jsb0roMJA7kTNB9vY0",
     "timestamp": 1586189986989
    },
    {
     "file_id": "1AMKoOjs7y6l18d70RcbHMLU9ZFxkzRpO",
     "timestamp": 1586187168759
    },
    {
     "file_id": "1xTYeoDljNTh0wTzF1-5qGP1rRqelzbdy",
     "timestamp": 1586186179439
    },
    {
     "file_id": "1bu4_mx_1jKW6Kfp_KGs2BLmj95QMXJaT",
     "timestamp": 1586186089368
    }
   ]
  },
  "kernelspec": {
   "display_name": "Python 3",
   "name": "python3"
  }
 },
 "nbformat": 4,
 "nbformat_minor": 0
}

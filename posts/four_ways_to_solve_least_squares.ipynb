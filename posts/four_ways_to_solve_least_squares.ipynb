{
 "cells": [
  {
   "cell_type": "raw",
   "metadata": {},
   "source": [
    "---\n",
    "badges: true\n",
    "categories:\n",
    "- machine learning\n",
    "description: Using neural networks to solve important problems\n",
    "hide: true\n",
    "output-file: four_ways_to_solve_least_squares.html\n",
    "title: Iterative Methods for Solving Least Squares Problems\n",
    "toc: true\n",
    "\n",
    "---\n",
    "\n"
   ]
  },
  {
   "cell_type": "markdown",
   "metadata": {
    "colab_type": "text",
    "id": "ne6dpi3eV2Wt"
   },
   "source": [
    "https://www.youtube.com/watch?v=ZUU57Q3CFOU"
   ]
  },
  {
   "cell_type": "code",
   "execution_count": 0,
   "metadata": {
    "colab": {},
    "colab_type": "code",
    "id": "zGBSuQgHW0bo"
   },
   "outputs": [],
   "source": []
  },
  {
   "cell_type": "code",
   "execution_count": null,
   "metadata": {},
   "outputs": [],
   "source": []
  }
 ],
 "metadata": {
  "colab": {
   "authorship_tag": "ABX9TyNLckk9tHBQElgXmUo8Wyfm",
   "collapsed_sections": [],
   "name": "four_ways_to_solve_least_squares.ipynb",
   "provenance": []
  },
  "kernelspec": {
   "display_name": "Python 3",
   "name": "python3"
  }
 },
 "nbformat": 4,
 "nbformat_minor": 0
}
